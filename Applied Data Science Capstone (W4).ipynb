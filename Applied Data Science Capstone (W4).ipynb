{
    "cells": [
        {
            "cell_type": "markdown",
            "metadata": {
                "collapsed": true
            },
            "source": "# Capstone Project - The Battle of Neighborhoods (Week 1)"
        },
        {
            "cell_type": "markdown",
            "metadata": {},
            "source": "### Project Title: Feasibility of opening a Restaurant in Canberra, Australia "
        },
        {
            "cell_type": "markdown",
            "metadata": {},
            "source": "<b>Problem Statement</b>: Feasibility of opening a restaurant (take away) around cluster of offices/workspaces in Canberra\n    \n<b>Introduction</b>\nCanberra is Australia's largest inland city and the capital of Australia. It has been dubbed as 'Start up capital' and one of the worlds best cities to live in. \n\nTo support start ups, the Australian Capital Territory (ACT) government has introduced various grant opportunities, such as InnovationConnect, which provides grants of up to $50,000 to help Canberra-based businesses develop their products and services. Similarly, for up-and-coming entrepreneurs, there\u2019s InnovationACT, a business plan competition for university students, run by the Australian National University and the University of Canberra.\n\nHaving lived in Canberra and as a former student of Australian National University, I am interested in exploring the possibility of opening a take-away restaurant for offices and students/graduates of nearby universities.\n\nPS. This idea is inspired from one of the blog posts at towardsdatascience.com"
        },
        {
            "cell_type": "markdown",
            "metadata": {},
            "source": "#### Target Audience  \n1) Clusters of workplaces and emerging startups in the city  \n2) Students and recent university graduates  \n3) Feasibility of a restaurant for potential investors  \n"
        },
        {
            "cell_type": "markdown",
            "metadata": {},
            "source": "#### Data Description and Structure  \n<b>Step 1</b>: List of suburbs (possibly scrapping from Wikipedia page) - https://en.wikipedia.org/wiki/List_of_Canberra_suburbs  \n<b>Step 2</b>: Adding postal codes to suburbs (either through google or Wikipedia) - https://gist.github.com/randomecho/5020859  \n<b>Step 3</b>: Short-listing of suburbs (based on some criterea - such as which are closer to the university / start up offices)   \n<b>Step 4</b>: Using foursquare location data (to explore the clusters/density of existing restaurants in the suburbs shortlisted) - https://foursquare.com/   \n<b>Step 5</b>: Data exploration, presentation, and visualization  "
        },
        {
            "cell_type": "code",
            "execution_count": null,
            "metadata": {},
            "outputs": [],
            "source": ""
        }
    ],
    "metadata": {
        "kernelspec": {
            "display_name": "Python 3.6",
            "language": "python",
            "name": "python3"
        },
        "language_info": {
            "codemirror_mode": {
                "name": "ipython",
                "version": 3
            },
            "file_extension": ".py",
            "mimetype": "text/x-python",
            "name": "python",
            "nbconvert_exporter": "python",
            "pygments_lexer": "ipython3",
            "version": "3.6.9"
        }
    },
    "nbformat": 4,
    "nbformat_minor": 1
}